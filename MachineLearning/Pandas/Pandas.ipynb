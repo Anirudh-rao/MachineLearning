{
 "cells": [
  {
   "cell_type": "markdown",
   "metadata": {},
   "source": [
    "# All About Pandas\n",
    " \n",
    "This Notebook all the basics of Pandas"
   ]
  },
  {
   "cell_type": "code",
   "execution_count": 1,
   "metadata": {},
   "outputs": [],
   "source": [
    "import pandas as pd\n",
    "import numpy as np\n"
   ]
  },
  {
   "cell_type": "code",
   "execution_count": 2,
   "metadata": {},
   "outputs": [
    {
     "name": "stdout",
     "output_type": "stream",
     "text": [
      "   month  avg_high  avg_low  record_high  record_low  avg_precipitation\n",
      "0    Jan        58       42           74          22               2.95\n",
      "1    Feb        61       45           78          26               3.02\n",
      "2    Mar        65       48           84          25               2.34\n",
      "3    Apr        67       50           92          28               1.02\n",
      "4    May        71       53           98          35               0.48\n",
      "5    Jun        75       56          107          41               0.11\n",
      "6    Jul        77       58          105          44               0.00\n",
      "7    Aug        77       59          102          43               0.03\n",
      "8    Sep        77       57          103          40               0.17\n",
      "9    Oct        73       54           96          34               0.81\n",
      "10   Nov        64       48           84          30               1.70\n",
      "11   Dec        58       42           73          21               2.56\n"
     ]
    }
   ],
   "source": [
    "def header(msg):\n",
    "  print('-'*50)\n",
    "  print('['+msg+']')\n",
    "  \n",
    "df = pd.DataFrame(\n",
    "[['Jan',58,42,74,22,2.95],\n",
    "['Feb',61,45,78,26,3.02],\n",
    "['Mar',65,48,84,25,2.34],\n",
    "['Apr',67,50,92,28,1.02],\n",
    "['May',71,53,98,35,0.48],\n",
    "['Jun',75,56,107,41,0.11],\n",
    "['Jul',77,58,105,44,0.0],\n",
    "['Aug',77,59,102,43,0.03],\n",
    "['Sep',77,57,103,40,0.17],\n",
    "['Oct',73,54,96,34,0.81],\n",
    "['Nov',64,48,84,30,1.7],\n",
    "['Dec',58,42,73,21,2.56]],\n",
    "index = [0,1,2,3,4,5,6,7,8,9,10,11],\n",
    "columns = ['month','avg_high','avg_low','record_high','record_low','avg_precipitation'])\n",
    "\n",
    "print(df)\n",
    "df.to_csv('foo.csv')"
   ]
  },
  {
   "cell_type": "code",
   "execution_count": 3,
   "metadata": {},
   "outputs": [
    {
     "name": "stdout",
     "output_type": "stream",
     "text": [
      "--------------------------------------------------\n",
      "[2.df.head()]\n",
      "  month  avg_high  avg_low  record_high  record_low  avg_precipitation\n",
      "0   Jan        58       42           74          22               2.95\n",
      "1   Feb        61       45           78          26               3.02\n",
      "2   Mar        65       48           84          25               2.34\n",
      "3   Apr        67       50           92          28               1.02\n",
      "4   May        71       53           98          35               0.48\n",
      "--------------------------------------------------\n",
      "[3.df.tail()]\n",
      "  month  avg_high  avg_low  record_high  record_low  avg_precipitation\n",
      "0   Jan        58       42           74          22               2.95\n",
      "1   Feb        61       45           78          26               3.02\n",
      "2   Mar        65       48           84          25               2.34\n",
      "3   Apr        67       50           92          28               1.02\n",
      "4   May        71       53           98          35               0.48\n"
     ]
    }
   ],
   "source": [
    "header(\"2.df.head()\")\n",
    "print(df.head())\n",
    "\n",
    "header(\"3.df.tail()\")\n",
    "print(df.head())"
   ]
  },
  {
   "cell_type": "code",
   "execution_count": 4,
   "metadata": {},
   "outputs": [
    {
     "name": "stdout",
     "output_type": "stream",
     "text": [
      "--------------------------------------------------\n",
      "[4.df.dtypes()]\n",
      "month                 object\n",
      "avg_high               int64\n",
      "avg_low                int64\n",
      "record_high            int64\n",
      "record_low             int64\n",
      "avg_precipitation    float64\n",
      "dtype: object\n"
     ]
    }
   ],
   "source": [
    "header(\"4.df.dtypes()\")\n",
    "print(df.dtypes)"
   ]
  },
  {
   "cell_type": "code",
   "execution_count": 5,
   "metadata": {},
   "outputs": [
    {
     "name": "stdout",
     "output_type": "stream",
     "text": [
      "--------------------------------------------------\n",
      "[5.df.index()]\n",
      "Int64Index([0, 1, 2, 3, 4, 5, 6, 7, 8, 9, 10, 11], dtype='int64')\n"
     ]
    }
   ],
   "source": [
    "header(\"5.df.index()\")\n",
    "print(df.index)"
   ]
  },
  {
   "cell_type": "code",
   "execution_count": 6,
   "metadata": {},
   "outputs": [
    {
     "name": "stdout",
     "output_type": "stream",
     "text": [
      "--------------------------------------------------\n",
      "[6.df.columns()]\n",
      "Index(['month', 'avg_high', 'avg_low', 'record_high', 'record_low',\n",
      "       'avg_precipitation'],\n",
      "      dtype='object')\n"
     ]
    }
   ],
   "source": [
    "header(\"6.df.columns()\")\n",
    "print(df.columns)"
   ]
  },
  {
   "cell_type": "code",
   "execution_count": 7,
   "metadata": {},
   "outputs": [
    {
     "name": "stdout",
     "output_type": "stream",
     "text": [
      "--------------------------------------------------\n",
      "[7.df.values()]\n",
      "[['Jan' 58 42 74 22 2.95]\n",
      " ['Feb' 61 45 78 26 3.02]\n",
      " ['Mar' 65 48 84 25 2.34]\n",
      " ['Apr' 67 50 92 28 1.02]\n",
      " ['May' 71 53 98 35 0.48]\n",
      " ['Jun' 75 56 107 41 0.11]\n",
      " ['Jul' 77 58 105 44 0.0]\n",
      " ['Aug' 77 59 102 43 0.03]\n",
      " ['Sep' 77 57 103 40 0.17]\n",
      " ['Oct' 73 54 96 34 0.81]\n",
      " ['Nov' 64 48 84 30 1.7]\n",
      " ['Dec' 58 42 73 21 2.56]]\n"
     ]
    }
   ],
   "source": [
    "header(\"7.df.values()\")\n",
    "print(df.values)"
   ]
  },
  {
   "cell_type": "code",
   "execution_count": 8,
   "metadata": {},
   "outputs": [
    {
     "name": "stdout",
     "output_type": "stream",
     "text": [
      "--------------------------------------------------\n",
      "[8.df.describe()]\n"
     ]
    },
    {
     "data": {
      "text/html": [
       "<div>\n",
       "<style scoped>\n",
       "    .dataframe tbody tr th:only-of-type {\n",
       "        vertical-align: middle;\n",
       "    }\n",
       "\n",
       "    .dataframe tbody tr th {\n",
       "        vertical-align: top;\n",
       "    }\n",
       "\n",
       "    .dataframe thead th {\n",
       "        text-align: right;\n",
       "    }\n",
       "</style>\n",
       "<table border=\"1\" class=\"dataframe\">\n",
       "  <thead>\n",
       "    <tr style=\"text-align: right;\">\n",
       "      <th></th>\n",
       "      <th>avg_high</th>\n",
       "      <th>avg_low</th>\n",
       "      <th>record_high</th>\n",
       "      <th>record_low</th>\n",
       "      <th>avg_precipitation</th>\n",
       "    </tr>\n",
       "  </thead>\n",
       "  <tbody>\n",
       "    <tr>\n",
       "      <th>count</th>\n",
       "      <td>12.000000</td>\n",
       "      <td>12.000000</td>\n",
       "      <td>12.000000</td>\n",
       "      <td>12.000000</td>\n",
       "      <td>12.000000</td>\n",
       "    </tr>\n",
       "    <tr>\n",
       "      <th>mean</th>\n",
       "      <td>68.583333</td>\n",
       "      <td>51.000000</td>\n",
       "      <td>91.333333</td>\n",
       "      <td>32.416667</td>\n",
       "      <td>1.265833</td>\n",
       "    </tr>\n",
       "    <tr>\n",
       "      <th>std</th>\n",
       "      <td>7.366488</td>\n",
       "      <td>6.060303</td>\n",
       "      <td>12.323911</td>\n",
       "      <td>8.240238</td>\n",
       "      <td>1.186396</td>\n",
       "    </tr>\n",
       "    <tr>\n",
       "      <th>min</th>\n",
       "      <td>58.000000</td>\n",
       "      <td>42.000000</td>\n",
       "      <td>73.000000</td>\n",
       "      <td>21.000000</td>\n",
       "      <td>0.000000</td>\n",
       "    </tr>\n",
       "    <tr>\n",
       "      <th>25%</th>\n",
       "      <td>63.250000</td>\n",
       "      <td>47.250000</td>\n",
       "      <td>82.500000</td>\n",
       "      <td>25.750000</td>\n",
       "      <td>0.155000</td>\n",
       "    </tr>\n",
       "    <tr>\n",
       "      <th>50%</th>\n",
       "      <td>69.000000</td>\n",
       "      <td>51.500000</td>\n",
       "      <td>94.000000</td>\n",
       "      <td>32.000000</td>\n",
       "      <td>0.915000</td>\n",
       "    </tr>\n",
       "    <tr>\n",
       "      <th>75%</th>\n",
       "      <td>75.500000</td>\n",
       "      <td>56.250000</td>\n",
       "      <td>102.250000</td>\n",
       "      <td>40.250000</td>\n",
       "      <td>2.395000</td>\n",
       "    </tr>\n",
       "    <tr>\n",
       "      <th>max</th>\n",
       "      <td>77.000000</td>\n",
       "      <td>59.000000</td>\n",
       "      <td>107.000000</td>\n",
       "      <td>44.000000</td>\n",
       "      <td>3.020000</td>\n",
       "    </tr>\n",
       "  </tbody>\n",
       "</table>\n",
       "</div>"
      ],
      "text/plain": [
       "        avg_high    avg_low  record_high  record_low  avg_precipitation\n",
       "count  12.000000  12.000000    12.000000   12.000000          12.000000\n",
       "mean   68.583333  51.000000    91.333333   32.416667           1.265833\n",
       "std     7.366488   6.060303    12.323911    8.240238           1.186396\n",
       "min    58.000000  42.000000    73.000000   21.000000           0.000000\n",
       "25%    63.250000  47.250000    82.500000   25.750000           0.155000\n",
       "50%    69.000000  51.500000    94.000000   32.000000           0.915000\n",
       "75%    75.500000  56.250000   102.250000   40.250000           2.395000\n",
       "max    77.000000  59.000000   107.000000   44.000000           3.020000"
      ]
     },
     "execution_count": 8,
     "metadata": {},
     "output_type": "execute_result"
    }
   ],
   "source": [
    "header(\"8.df.describe()\")\n",
    "df.describe()"
   ]
  },
  {
   "cell_type": "code",
   "execution_count": 9,
   "metadata": {},
   "outputs": [
    {
     "name": "stdout",
     "output_type": "stream",
     "text": [
      "--------------------------------------------------\n",
      "[8.df.sort_values()]\n"
     ]
    },
    {
     "data": {
      "text/html": [
       "<div>\n",
       "<style scoped>\n",
       "    .dataframe tbody tr th:only-of-type {\n",
       "        vertical-align: middle;\n",
       "    }\n",
       "\n",
       "    .dataframe tbody tr th {\n",
       "        vertical-align: top;\n",
       "    }\n",
       "\n",
       "    .dataframe thead th {\n",
       "        text-align: right;\n",
       "    }\n",
       "</style>\n",
       "<table border=\"1\" class=\"dataframe\">\n",
       "  <thead>\n",
       "    <tr style=\"text-align: right;\">\n",
       "      <th></th>\n",
       "      <th>month</th>\n",
       "      <th>avg_high</th>\n",
       "      <th>avg_low</th>\n",
       "      <th>record_high</th>\n",
       "      <th>record_low</th>\n",
       "      <th>avg_precipitation</th>\n",
       "    </tr>\n",
       "  </thead>\n",
       "  <tbody>\n",
       "    <tr>\n",
       "      <th>11</th>\n",
       "      <td>Dec</td>\n",
       "      <td>58</td>\n",
       "      <td>42</td>\n",
       "      <td>73</td>\n",
       "      <td>21</td>\n",
       "      <td>2.56</td>\n",
       "    </tr>\n",
       "    <tr>\n",
       "      <th>0</th>\n",
       "      <td>Jan</td>\n",
       "      <td>58</td>\n",
       "      <td>42</td>\n",
       "      <td>74</td>\n",
       "      <td>22</td>\n",
       "      <td>2.95</td>\n",
       "    </tr>\n",
       "    <tr>\n",
       "      <th>1</th>\n",
       "      <td>Feb</td>\n",
       "      <td>61</td>\n",
       "      <td>45</td>\n",
       "      <td>78</td>\n",
       "      <td>26</td>\n",
       "      <td>3.02</td>\n",
       "    </tr>\n",
       "    <tr>\n",
       "      <th>2</th>\n",
       "      <td>Mar</td>\n",
       "      <td>65</td>\n",
       "      <td>48</td>\n",
       "      <td>84</td>\n",
       "      <td>25</td>\n",
       "      <td>2.34</td>\n",
       "    </tr>\n",
       "    <tr>\n",
       "      <th>10</th>\n",
       "      <td>Nov</td>\n",
       "      <td>64</td>\n",
       "      <td>48</td>\n",
       "      <td>84</td>\n",
       "      <td>30</td>\n",
       "      <td>1.70</td>\n",
       "    </tr>\n",
       "    <tr>\n",
       "      <th>3</th>\n",
       "      <td>Apr</td>\n",
       "      <td>67</td>\n",
       "      <td>50</td>\n",
       "      <td>92</td>\n",
       "      <td>28</td>\n",
       "      <td>1.02</td>\n",
       "    </tr>\n",
       "    <tr>\n",
       "      <th>9</th>\n",
       "      <td>Oct</td>\n",
       "      <td>73</td>\n",
       "      <td>54</td>\n",
       "      <td>96</td>\n",
       "      <td>34</td>\n",
       "      <td>0.81</td>\n",
       "    </tr>\n",
       "    <tr>\n",
       "      <th>4</th>\n",
       "      <td>May</td>\n",
       "      <td>71</td>\n",
       "      <td>53</td>\n",
       "      <td>98</td>\n",
       "      <td>35</td>\n",
       "      <td>0.48</td>\n",
       "    </tr>\n",
       "    <tr>\n",
       "      <th>7</th>\n",
       "      <td>Aug</td>\n",
       "      <td>77</td>\n",
       "      <td>59</td>\n",
       "      <td>102</td>\n",
       "      <td>43</td>\n",
       "      <td>0.03</td>\n",
       "    </tr>\n",
       "    <tr>\n",
       "      <th>8</th>\n",
       "      <td>Sep</td>\n",
       "      <td>77</td>\n",
       "      <td>57</td>\n",
       "      <td>103</td>\n",
       "      <td>40</td>\n",
       "      <td>0.17</td>\n",
       "    </tr>\n",
       "    <tr>\n",
       "      <th>6</th>\n",
       "      <td>Jul</td>\n",
       "      <td>77</td>\n",
       "      <td>58</td>\n",
       "      <td>105</td>\n",
       "      <td>44</td>\n",
       "      <td>0.00</td>\n",
       "    </tr>\n",
       "    <tr>\n",
       "      <th>5</th>\n",
       "      <td>Jun</td>\n",
       "      <td>75</td>\n",
       "      <td>56</td>\n",
       "      <td>107</td>\n",
       "      <td>41</td>\n",
       "      <td>0.11</td>\n",
       "    </tr>\n",
       "  </tbody>\n",
       "</table>\n",
       "</div>"
      ],
      "text/plain": [
       "   month  avg_high  avg_low  record_high  record_low  avg_precipitation\n",
       "11   Dec        58       42           73          21               2.56\n",
       "0    Jan        58       42           74          22               2.95\n",
       "1    Feb        61       45           78          26               3.02\n",
       "2    Mar        65       48           84          25               2.34\n",
       "10   Nov        64       48           84          30               1.70\n",
       "3    Apr        67       50           92          28               1.02\n",
       "9    Oct        73       54           96          34               0.81\n",
       "4    May        71       53           98          35               0.48\n",
       "7    Aug        77       59          102          43               0.03\n",
       "8    Sep        77       57          103          40               0.17\n",
       "6    Jul        77       58          105          44               0.00\n",
       "5    Jun        75       56          107          41               0.11"
      ]
     },
     "execution_count": 9,
     "metadata": {},
     "output_type": "execute_result"
    }
   ],
   "source": [
    "header(\"8.df.sort_values()\")\n",
    "df.sort_values(\"record_high\" , ascending= \"False\")"
   ]
  },
  {
   "cell_type": "code",
   "execution_count": 10,
   "metadata": {},
   "outputs": [
    {
     "data": {
      "text/plain": [
       "0     42\n",
       "1     45\n",
       "2     48\n",
       "3     50\n",
       "4     53\n",
       "5     56\n",
       "6     58\n",
       "7     59\n",
       "8     57\n",
       "9     54\n",
       "10    48\n",
       "11    42\n",
       "Name: avg_low, dtype: int64"
      ]
     },
     "execution_count": 10,
     "metadata": {},
     "output_type": "execute_result"
    }
   ],
   "source": [
    "df.avg_low\n"
   ]
  },
  {
   "cell_type": "code",
   "execution_count": 11,
   "metadata": {},
   "outputs": [
    {
     "data": {
      "text/plain": [
       "0     42\n",
       "1     45\n",
       "2     48\n",
       "3     50\n",
       "4     53\n",
       "5     56\n",
       "6     58\n",
       "7     59\n",
       "8     57\n",
       "9     54\n",
       "10    48\n",
       "11    42\n",
       "Name: avg_low, dtype: int64"
      ]
     },
     "execution_count": 11,
     "metadata": {},
     "output_type": "execute_result"
    }
   ],
   "source": [
    "df['avg_low']"
   ]
  },
  {
   "cell_type": "code",
   "execution_count": 12,
   "metadata": {},
   "outputs": [
    {
     "data": {
      "text/html": [
       "<div>\n",
       "<style scoped>\n",
       "    .dataframe tbody tr th:only-of-type {\n",
       "        vertical-align: middle;\n",
       "    }\n",
       "\n",
       "    .dataframe tbody tr th {\n",
       "        vertical-align: top;\n",
       "    }\n",
       "\n",
       "    .dataframe thead th {\n",
       "        text-align: right;\n",
       "    }\n",
       "</style>\n",
       "<table border=\"1\" class=\"dataframe\">\n",
       "  <thead>\n",
       "    <tr style=\"text-align: right;\">\n",
       "      <th></th>\n",
       "      <th>month</th>\n",
       "      <th>avg_high</th>\n",
       "      <th>avg_low</th>\n",
       "      <th>record_high</th>\n",
       "      <th>record_low</th>\n",
       "      <th>avg_precipitation</th>\n",
       "    </tr>\n",
       "  </thead>\n",
       "  <tbody>\n",
       "    <tr>\n",
       "      <th>2</th>\n",
       "      <td>Mar</td>\n",
       "      <td>65</td>\n",
       "      <td>48</td>\n",
       "      <td>84</td>\n",
       "      <td>25</td>\n",
       "      <td>2.34</td>\n",
       "    </tr>\n",
       "    <tr>\n",
       "      <th>3</th>\n",
       "      <td>Apr</td>\n",
       "      <td>67</td>\n",
       "      <td>50</td>\n",
       "      <td>92</td>\n",
       "      <td>28</td>\n",
       "      <td>1.02</td>\n",
       "    </tr>\n",
       "  </tbody>\n",
       "</table>\n",
       "</div>"
      ],
      "text/plain": [
       "  month  avg_high  avg_low  record_high  record_low  avg_precipitation\n",
       "2   Mar        65       48           84          25               2.34\n",
       "3   Apr        67       50           92          28               1.02"
      ]
     },
     "execution_count": 12,
     "metadata": {},
     "output_type": "execute_result"
    }
   ],
   "source": [
    "df[2:4]"
   ]
  },
  {
   "cell_type": "code",
   "execution_count": 13,
   "metadata": {},
   "outputs": [
    {
     "data": {
      "text/html": [
       "<div>\n",
       "<style scoped>\n",
       "    .dataframe tbody tr th:only-of-type {\n",
       "        vertical-align: middle;\n",
       "    }\n",
       "\n",
       "    .dataframe tbody tr th {\n",
       "        vertical-align: top;\n",
       "    }\n",
       "\n",
       "    .dataframe thead th {\n",
       "        text-align: right;\n",
       "    }\n",
       "</style>\n",
       "<table border=\"1\" class=\"dataframe\">\n",
       "  <thead>\n",
       "    <tr style=\"text-align: right;\">\n",
       "      <th></th>\n",
       "      <th>avg_low</th>\n",
       "      <th>avg_high</th>\n",
       "      <th>record_high</th>\n",
       "    </tr>\n",
       "  </thead>\n",
       "  <tbody>\n",
       "    <tr>\n",
       "      <th>0</th>\n",
       "      <td>42</td>\n",
       "      <td>58</td>\n",
       "      <td>74</td>\n",
       "    </tr>\n",
       "    <tr>\n",
       "      <th>1</th>\n",
       "      <td>45</td>\n",
       "      <td>61</td>\n",
       "      <td>78</td>\n",
       "    </tr>\n",
       "    <tr>\n",
       "      <th>2</th>\n",
       "      <td>48</td>\n",
       "      <td>65</td>\n",
       "      <td>84</td>\n",
       "    </tr>\n",
       "    <tr>\n",
       "      <th>3</th>\n",
       "      <td>50</td>\n",
       "      <td>67</td>\n",
       "      <td>92</td>\n",
       "    </tr>\n",
       "    <tr>\n",
       "      <th>4</th>\n",
       "      <td>53</td>\n",
       "      <td>71</td>\n",
       "      <td>98</td>\n",
       "    </tr>\n",
       "    <tr>\n",
       "      <th>5</th>\n",
       "      <td>56</td>\n",
       "      <td>75</td>\n",
       "      <td>107</td>\n",
       "    </tr>\n",
       "    <tr>\n",
       "      <th>6</th>\n",
       "      <td>58</td>\n",
       "      <td>77</td>\n",
       "      <td>105</td>\n",
       "    </tr>\n",
       "    <tr>\n",
       "      <th>7</th>\n",
       "      <td>59</td>\n",
       "      <td>77</td>\n",
       "      <td>102</td>\n",
       "    </tr>\n",
       "    <tr>\n",
       "      <th>8</th>\n",
       "      <td>57</td>\n",
       "      <td>77</td>\n",
       "      <td>103</td>\n",
       "    </tr>\n",
       "    <tr>\n",
       "      <th>9</th>\n",
       "      <td>54</td>\n",
       "      <td>73</td>\n",
       "      <td>96</td>\n",
       "    </tr>\n",
       "    <tr>\n",
       "      <th>10</th>\n",
       "      <td>48</td>\n",
       "      <td>64</td>\n",
       "      <td>84</td>\n",
       "    </tr>\n",
       "    <tr>\n",
       "      <th>11</th>\n",
       "      <td>42</td>\n",
       "      <td>58</td>\n",
       "      <td>73</td>\n",
       "    </tr>\n",
       "  </tbody>\n",
       "</table>\n",
       "</div>"
      ],
      "text/plain": [
       "    avg_low  avg_high  record_high\n",
       "0        42        58           74\n",
       "1        45        61           78\n",
       "2        48        65           84\n",
       "3        50        67           92\n",
       "4        53        71           98\n",
       "5        56        75          107\n",
       "6        58        77          105\n",
       "7        59        77          102\n",
       "8        57        77          103\n",
       "9        54        73           96\n",
       "10       48        64           84\n",
       "11       42        58           73"
      ]
     },
     "execution_count": 13,
     "metadata": {},
     "output_type": "execute_result"
    }
   ],
   "source": [
    "df[['avg_low','avg_high','record_high']]"
   ]
  },
  {
   "cell_type": "code",
   "execution_count": 14,
   "metadata": {},
   "outputs": [
    {
     "data": {
      "text/html": [
       "<div>\n",
       "<style scoped>\n",
       "    .dataframe tbody tr th:only-of-type {\n",
       "        vertical-align: middle;\n",
       "    }\n",
       "\n",
       "    .dataframe tbody tr th {\n",
       "        vertical-align: top;\n",
       "    }\n",
       "\n",
       "    .dataframe thead th {\n",
       "        text-align: right;\n",
       "    }\n",
       "</style>\n",
       "<table border=\"1\" class=\"dataframe\">\n",
       "  <thead>\n",
       "    <tr style=\"text-align: right;\">\n",
       "      <th></th>\n",
       "      <th>month</th>\n",
       "      <th>record_high</th>\n",
       "    </tr>\n",
       "  </thead>\n",
       "  <tbody>\n",
       "    <tr>\n",
       "      <th>5</th>\n",
       "      <td>Jun</td>\n",
       "      <td>107</td>\n",
       "    </tr>\n",
       "    <tr>\n",
       "      <th>6</th>\n",
       "      <td>Jul</td>\n",
       "      <td>105</td>\n",
       "    </tr>\n",
       "    <tr>\n",
       "      <th>7</th>\n",
       "      <td>Aug</td>\n",
       "      <td>102</td>\n",
       "    </tr>\n",
       "  </tbody>\n",
       "</table>\n",
       "</div>"
      ],
      "text/plain": [
       "  month  record_high\n",
       "5   Jun          107\n",
       "6   Jul          105\n",
       "7   Aug          102"
      ]
     },
     "execution_count": 14,
     "metadata": {},
     "output_type": "execute_result"
    }
   ],
   "source": [
    "df.iloc[5:8 , [0,3]]  #it will use as array "
   ]
  },
  {
   "cell_type": "code",
   "execution_count": 15,
   "metadata": {},
   "outputs": [
    {
     "data": {
      "text/html": [
       "<div>\n",
       "<style scoped>\n",
       "    .dataframe tbody tr th:only-of-type {\n",
       "        vertical-align: middle;\n",
       "    }\n",
       "\n",
       "    .dataframe tbody tr th {\n",
       "        vertical-align: top;\n",
       "    }\n",
       "\n",
       "    .dataframe thead th {\n",
       "        text-align: right;\n",
       "    }\n",
       "</style>\n",
       "<table border=\"1\" class=\"dataframe\">\n",
       "  <thead>\n",
       "    <tr style=\"text-align: right;\">\n",
       "      <th></th>\n",
       "      <th>avg_low</th>\n",
       "      <th>avg_high</th>\n",
       "      <th>record_high</th>\n",
       "    </tr>\n",
       "  </thead>\n",
       "  <tbody>\n",
       "    <tr>\n",
       "      <th>5</th>\n",
       "      <td>56</td>\n",
       "      <td>75</td>\n",
       "      <td>107</td>\n",
       "    </tr>\n",
       "    <tr>\n",
       "      <th>6</th>\n",
       "      <td>58</td>\n",
       "      <td>77</td>\n",
       "      <td>105</td>\n",
       "    </tr>\n",
       "    <tr>\n",
       "      <th>7</th>\n",
       "      <td>59</td>\n",
       "      <td>77</td>\n",
       "      <td>102</td>\n",
       "    </tr>\n",
       "    <tr>\n",
       "      <th>8</th>\n",
       "      <td>57</td>\n",
       "      <td>77</td>\n",
       "      <td>103</td>\n",
       "    </tr>\n",
       "  </tbody>\n",
       "</table>\n",
       "</div>"
      ],
      "text/plain": [
       "   avg_low  avg_high  record_high\n",
       "5       56        75          107\n",
       "6       58        77          105\n",
       "7       59        77          102\n",
       "8       57        77          103"
      ]
     },
     "execution_count": 15,
     "metadata": {},
     "output_type": "execute_result"
    }
   ],
   "source": [
    "df.loc[5:8 , ['avg_low','avg_high','record_high']]"
   ]
  },
  {
   "cell_type": "code",
   "execution_count": 16,
   "metadata": {},
   "outputs": [
    {
     "data": {
      "text/plain": [
       "avg_low        54\n",
       "avg_high       73\n",
       "record_high    96\n",
       "Name: 9, dtype: object"
      ]
     },
     "execution_count": 16,
     "metadata": {},
     "output_type": "execute_result"
    }
   ],
   "source": [
    "df.loc[9, ['avg_low','avg_high','record_high']]"
   ]
  },
  {
   "cell_type": "code",
   "execution_count": 17,
   "metadata": {},
   "outputs": [
    {
     "data": {
      "text/html": [
       "<div>\n",
       "<style scoped>\n",
       "    .dataframe tbody tr th:only-of-type {\n",
       "        vertical-align: middle;\n",
       "    }\n",
       "\n",
       "    .dataframe tbody tr th {\n",
       "        vertical-align: top;\n",
       "    }\n",
       "\n",
       "    .dataframe thead th {\n",
       "        text-align: right;\n",
       "    }\n",
       "</style>\n",
       "<table border=\"1\" class=\"dataframe\">\n",
       "  <thead>\n",
       "    <tr style=\"text-align: right;\">\n",
       "      <th></th>\n",
       "      <th>month</th>\n",
       "      <th>record_high</th>\n",
       "    </tr>\n",
       "  </thead>\n",
       "  <tbody>\n",
       "    <tr>\n",
       "      <th>3</th>\n",
       "      <td>Apr</td>\n",
       "      <td>92</td>\n",
       "    </tr>\n",
       "    <tr>\n",
       "      <th>4</th>\n",
       "      <td>May</td>\n",
       "      <td>98</td>\n",
       "    </tr>\n",
       "  </tbody>\n",
       "</table>\n",
       "</div>"
      ],
      "text/plain": [
       "  month  record_high\n",
       "3   Apr           92\n",
       "4   May           98"
      ]
     },
     "execution_count": 17,
     "metadata": {},
     "output_type": "execute_result"
    }
   ],
   "source": [
    "df.iloc[3:5,[0,3]]"
   ]
  },
  {
   "cell_type": "markdown",
   "metadata": {},
   "source": [
    "Creator : @Anirudh-rao"
   ]
  }
 ],
 "metadata": {
  "kernelspec": {
   "display_name": "Python 3.9.7 64-bit",
   "language": "python",
   "name": "python3"
  },
  "language_info": {
   "codemirror_mode": {
    "name": "ipython",
    "version": 3
   },
   "file_extension": ".py",
   "mimetype": "text/x-python",
   "name": "python",
   "nbconvert_exporter": "python",
   "pygments_lexer": "ipython3",
   "version": "3.9.7"
  },
  "orig_nbformat": 4,
  "vscode": {
   "interpreter": {
    "hash": "8c93b56f12893a73f3fb26b619faf35eb67f0f4410719b74190040acf104b72e"
   }
  }
 },
 "nbformat": 4,
 "nbformat_minor": 2
}
