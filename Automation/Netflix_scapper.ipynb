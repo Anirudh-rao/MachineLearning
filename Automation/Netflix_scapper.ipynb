{
 "cells": [
  {
   "cell_type": "markdown",
   "metadata": {},
   "source": [
    "# Netflix Scrapper Using Python\n",
    "\n",
    "The purpose of the code is to get details of all the Categories on Netflix and then to gather information about Sub-Categories and movies under each Sub-Category.\n"
   ]
  },
  {
   "cell_type": "code",
   "execution_count": 1,
   "metadata": {},
   "outputs": [],
   "source": [
    "from bs4 import BeautifulSoup\n",
    "import requests\n",
    "import pandas as pd\n",
    "import numpy as np"
   ]
  },
  {
   "cell_type": "code",
   "execution_count": 2,
   "metadata": {},
   "outputs": [],
   "source": [
    "def make_soup(url):\n",
    "    return BeautifulSoup(requests.get(url).text,'html.parser')"
   ]
  },
  {
   "cell_type": "code",
   "execution_count": 3,
   "metadata": {},
   "outputs": [],
   "source": [
    "def browseCategory(category, data):\n",
    "    category_url = data[category-1][2]\n",
    "    category = data[category-1][1]\n",
    "    subCategory_details = []\n",
    "    count = 1\n",
    "    subCategories = []\n",
    "    soup = make_soup(category_url)\n",
    "    cards_list = soup.find_all('section',{'class':'nm-collections-row'})\n",
    "    for card in cards_list:\n",
    "        try:\n",
    "            subCategory = card.find('h1').text\n",
    "            movie_list = []\n",
    "            movies = card.find_all('li')\n",
    "            movie_count = 1\n",
    "            for movie in movies:\n",
    "                try:\n",
    "                    movie_title = movie.find('span',{'class':'nm-collections-title-name'}).text\n",
    "                    movie_link = movie.find('a').get('href')\n",
    "                    movie_list.append([movie_count, movie_title , movie_link])\n",
    "                    movie_count += 1\n",
    "                except AttributeError:\n",
    "                    pass\n",
    "            subCategories.append(subCategory)\n",
    "            subCategory_details.append(movie_list)\n",
    "            count += 1\n",
    "        except AttributeError:\n",
    "            pass\n",
    "    return subCategories, subCategory_details, count-1"
   ]
  },
  {
   "cell_type": "code",
   "execution_count": 5,
   "metadata": {},
   "outputs": [],
   "source": [
    "def getCategories(base_url):\n",
    "    category_soup = make_soup(base_url)\n",
    "    categories = category_soup.find_all('section',{'class':'nm-collections-row'})\n",
    "    result=[]\n",
    "    count = 1\n",
    "    for category in categories:\n",
    "        try:\n",
    "            Title = category.find('span', {'class':'nm-collections-row-name'}).text\n",
    "            url = category.find('a').get('href')\n",
    "            result.append([count, Title, url])\n",
    "            count += 1\n",
    "        except AttributeError:\n",
    "            pass\n",
    "    #print(result)\n",
    "    return result"
   ]
  },
  {
   "cell_type": "code",
   "execution_count": 7,
   "metadata": {},
   "outputs": [
    {
     "name": "stdout",
     "output_type": "stream",
     "text": [
      "Please select one of the category\n",
      "Sr.No                      Title                                            link\n",
      "    1    International TV Dramas   https://www.netflix.com/in/browse/genre/11714\n",
      "    2               New Releases https://www.netflix.com/in/browse/genre/1195213\n",
      "    3     International TV Shows    https://www.netflix.com/in/browse/genre/1372\n",
      "    4         Heartfelt TV Shows    https://www.netflix.com/in/browse/genre/6548\n",
      "    5                   Comedies https://www.netflix.com/in/browse/genre/2638104\n",
      "    6              Action Movies    https://www.netflix.com/in/browse/genre/6839\n",
      "    7                   K-Dramas   https://www.netflix.com/in/browse/genre/10105\n",
      "    8 Love and Dating Reality TV   https://www.netflix.com/in/browse/genre/10375\n"
     ]
    },
    {
     "ename": "ValueError",
     "evalue": "invalid literal for int() with base 10: 'Stranger Things'",
     "output_type": "error",
     "traceback": [
      "\u001b[1;31m---------------------------------------------------------------------------\u001b[0m",
      "\u001b[1;31mValueError\u001b[0m                                Traceback (most recent call last)",
      "\u001b[1;32m~\\AppData\\Local\\Temp/ipykernel_12352/1128038755.py\u001b[0m in \u001b[0;36m<module>\u001b[1;34m\u001b[0m\n\u001b[0;32m     14\u001b[0m \u001b[1;33m\u001b[0m\u001b[0m\n\u001b[0;32m     15\u001b[0m \u001b[1;32mif\u001b[0m \u001b[0m__name__\u001b[0m \u001b[1;33m==\u001b[0m \u001b[1;34m'__main__'\u001b[0m\u001b[1;33m:\u001b[0m\u001b[1;33m\u001b[0m\u001b[1;33m\u001b[0m\u001b[0m\n\u001b[1;32m---> 16\u001b[1;33m     \u001b[0mmain\u001b[0m\u001b[1;33m(\u001b[0m\u001b[1;33m)\u001b[0m\u001b[1;33m\u001b[0m\u001b[1;33m\u001b[0m\u001b[0m\n\u001b[0m",
      "\u001b[1;32m~\\AppData\\Local\\Temp/ipykernel_12352/1128038755.py\u001b[0m in \u001b[0;36mmain\u001b[1;34m()\u001b[0m\n\u001b[0;32m      5\u001b[0m     \u001b[0mdf\u001b[0m \u001b[1;33m=\u001b[0m \u001b[0mpd\u001b[0m\u001b[1;33m.\u001b[0m\u001b[0mDataFrame\u001b[0m\u001b[1;33m(\u001b[0m\u001b[0mnp\u001b[0m\u001b[1;33m.\u001b[0m\u001b[0marray\u001b[0m\u001b[1;33m(\u001b[0m\u001b[0mcategories\u001b[0m\u001b[1;33m)\u001b[0m\u001b[1;33m,\u001b[0m \u001b[0mcolumns\u001b[0m\u001b[1;33m=\u001b[0m\u001b[1;33m[\u001b[0m\u001b[1;34m'Sr.No'\u001b[0m\u001b[1;33m,\u001b[0m \u001b[1;34m'Title'\u001b[0m\u001b[1;33m,\u001b[0m \u001b[1;34m'link'\u001b[0m\u001b[1;33m]\u001b[0m\u001b[1;33m)\u001b[0m\u001b[1;33m\u001b[0m\u001b[1;33m\u001b[0m\u001b[0m\n\u001b[0;32m      6\u001b[0m     \u001b[0mprint\u001b[0m\u001b[1;33m(\u001b[0m\u001b[0mdf\u001b[0m\u001b[1;33m.\u001b[0m\u001b[0mto_string\u001b[0m\u001b[1;33m(\u001b[0m\u001b[0mindex\u001b[0m\u001b[1;33m=\u001b[0m\u001b[1;32mFalse\u001b[0m\u001b[1;33m)\u001b[0m\u001b[1;33m)\u001b[0m\u001b[1;33m\u001b[0m\u001b[1;33m\u001b[0m\u001b[0m\n\u001b[1;32m----> 7\u001b[1;33m     \u001b[0mchoice\u001b[0m \u001b[1;33m=\u001b[0m \u001b[0mint\u001b[0m\u001b[1;33m(\u001b[0m\u001b[0minput\u001b[0m\u001b[1;33m(\u001b[0m\u001b[1;34m'\\n\\n Please Enter your Choice: \\n'\u001b[0m\u001b[1;33m)\u001b[0m\u001b[1;33m)\u001b[0m\u001b[1;33m\u001b[0m\u001b[1;33m\u001b[0m\u001b[0m\n\u001b[0m\u001b[0;32m      8\u001b[0m     \u001b[0msubCategories\u001b[0m\u001b[1;33m,\u001b[0m \u001b[0mmovieList\u001b[0m\u001b[1;33m,\u001b[0m \u001b[0mcount\u001b[0m \u001b[1;33m=\u001b[0m \u001b[0mbrowseCategory\u001b[0m\u001b[1;33m(\u001b[0m\u001b[0mchoice\u001b[0m\u001b[1;33m,\u001b[0m \u001b[0mcategories\u001b[0m\u001b[1;33m)\u001b[0m\u001b[1;33m\u001b[0m\u001b[1;33m\u001b[0m\u001b[0m\n\u001b[0;32m      9\u001b[0m     \u001b[1;32mfor\u001b[0m \u001b[0mi\u001b[0m \u001b[1;32min\u001b[0m \u001b[0mrange\u001b[0m\u001b[1;33m(\u001b[0m\u001b[1;36m0\u001b[0m\u001b[1;33m,\u001b[0m \u001b[0mcount\u001b[0m\u001b[1;33m)\u001b[0m\u001b[1;33m:\u001b[0m\u001b[1;33m\u001b[0m\u001b[1;33m\u001b[0m\u001b[0m\n",
      "\u001b[1;31mValueError\u001b[0m: invalid literal for int() with base 10: 'Stranger Things'"
     ]
    }
   ],
   "source": [
    "def main():\n",
    "    netflix_url = \"https://www.netflix.com/in/browse/genre/839338\"\n",
    "    categories = getCategories(netflix_url)\n",
    "    print(\"Please select one of the category\")\n",
    "    df = pd.DataFrame(np.array(categories), columns=['Sr.No', 'Title', 'link'])\n",
    "    print(df.to_string(index=False))\n",
    "    choice = int(input('\\n\\n Please Enter your Choice: \\n'))\n",
    "    subCategories, movieList, count = browseCategory(choice, categories)\n",
    "    for i in range(0, count):\n",
    "        print(subCategories[i],'\\n\\n')\n",
    "        subCategory_df = pd.DataFrame(np.array(movieList[i]), columns=['Sr.No', 'Title', 'link'])\n",
    "        print(subCategory_df.to_string(index=False))\n",
    "        print(\"\\n\\n\\n\")\n",
    "    \n",
    "if __name__ == '__main__':\n",
    "    main()"
   ]
  },
  {
   "cell_type": "code",
   "execution_count": null,
   "metadata": {},
   "outputs": [],
   "source": []
  }
 ],
 "metadata": {
  "kernelspec": {
   "display_name": "Python 3.9.7 64-bit",
   "language": "python",
   "name": "python3"
  },
  "language_info": {
   "codemirror_mode": {
    "name": "ipython",
    "version": 3
   },
   "file_extension": ".py",
   "mimetype": "text/x-python",
   "name": "python",
   "nbconvert_exporter": "python",
   "pygments_lexer": "ipython3",
   "version": "3.9.7"
  },
  "orig_nbformat": 4,
  "vscode": {
   "interpreter": {
    "hash": "8c93b56f12893a73f3fb26b619faf35eb67f0f4410719b74190040acf104b72e"
   }
  }
 },
 "nbformat": 4,
 "nbformat_minor": 2
}
